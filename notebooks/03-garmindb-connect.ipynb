{
 "cells": [
  {
   "cell_type": "code",
   "execution_count": 7,
   "metadata": {},
   "outputs": [],
   "source": [
    "from IPython.display import display, Markdown\n",
    "import snakemd\n",
    "import datetime\n",
    "\n",
    "from garmindb import GarminConnectConfigManager\n",
    "from garmindb.garmindb import GarminSummaryDb, YearsSummary\n",
    "\n",
    "from jupyter_funcs import format_number\n",
    "from graphs import Graph"
   ]
  },
  {
   "cell_type": "code",
   "execution_count": 8,
   "metadata": {},
   "outputs": [],
   "source": [
    "years_to_display = 4\n",
    "days_to_display = (years_to_display * 365)\n",
    "\n",
    "gc_config = GarminConnectConfigManager()\n",
    "db_params_dict = gc_config.get_db_params()\n",
    "garmin_sum_db = GarminSummaryDb(db_params_dict)\n",
    "\n",
    "graph = Graph()"
   ]
  },
  {
   "cell_type": "code",
   "execution_count": 9,
   "metadata": {},
   "outputs": [
    {
     "ename": "AttributeError",
     "evalue": "'NoneType' object has no attribute 'rhr_avg'",
     "output_type": "error",
     "traceback": [
      "\u001b[0;31m---------------------------------------------------------------------------\u001b[0m",
      "\u001b[0;31mAttributeError\u001b[0m                            Traceback (most recent call last)",
      "Cell \u001b[0;32mIn[9], line 5\u001b[0m\n\u001b[1;32m      3\u001b[0m \u001b[38;5;28;01mfor\u001b[39;00m year \u001b[38;5;129;01min\u001b[39;00m \u001b[38;5;28mrange\u001b[39m(current_year \u001b[38;5;241m-\u001b[39m years_to_display, current_year \u001b[38;5;241m+\u001b[39m \u001b[38;5;241m1\u001b[39m):\n\u001b[1;32m      4\u001b[0m     year_data \u001b[38;5;241m=\u001b[39m YearsSummary\u001b[38;5;241m.\u001b[39mget_year(garmin_sum_db, year)\n\u001b[0;32m----> 5\u001b[0m     years_data\u001b[38;5;241m.\u001b[39mappend([year, format_number(year_data\u001b[38;5;241m.\u001b[39mrhr_avg), format_number(year_data\u001b[38;5;241m.\u001b[39mrhr_min), format_number(year_data\u001b[38;5;241m.\u001b[39mrhr_max),\n\u001b[1;32m      6\u001b[0m                        format_number(year_data\u001b[38;5;241m.\u001b[39mhr_avg), format_number(year_data\u001b[38;5;241m.\u001b[39mhr_min), format_number(year_data\u001b[38;5;241m.\u001b[39mhr_max)])\n\u001b[1;32m      8\u001b[0m doc \u001b[38;5;241m=\u001b[39m snakemd\u001b[38;5;241m.\u001b[39mnew_doc()\n\u001b[1;32m      9\u001b[0m doc\u001b[38;5;241m.\u001b[39madd_heading(\u001b[38;5;124m\"\u001b[39m\u001b[38;5;124mHeart Rate\u001b[39m\u001b[38;5;124m\"\u001b[39m, \u001b[38;5;241m3\u001b[39m)\n",
      "\u001b[0;31mAttributeError\u001b[0m: 'NoneType' object has no attribute 'rhr_avg'"
     ]
    }
   ],
   "source": [
    "years_data = []\n",
    "current_year = datetime.date.today().year\n",
    "for year in range(current_year - years_to_display, current_year + 1):\n",
    "    year_data = YearsSummary.get_year(garmin_sum_db, year)\n",
    "    years_data.append([year, format_number(year_data.rhr_avg), format_number(year_data.rhr_min), format_number(year_data.rhr_max),\n",
    "                       format_number(year_data.hr_avg), format_number(year_data.hr_min), format_number(year_data.hr_max)])\n",
    "\n",
    "doc = snakemd.new_doc()\n",
    "doc.add_heading(\"Heart Rate\", 3)\n",
    "doc.add_table(['Year', 'Avg Resting HR', 'Min Resting HR', 'Max Resting HR', 'Avg HR', 'Min HR', 'Max HR'], years_data)\n",
    "display(Markdown(str(doc)))\n",
    "graph.graph_activity('hr', days=days_to_display)"
   ]
  },
  {
   "cell_type": "code",
   "execution_count": 10,
   "metadata": {},
   "outputs": [
    {
     "ename": "ValueError",
     "evalue": "max() arg is an empty sequence",
     "output_type": "error",
     "traceback": [
      "\u001b[0;31m---------------------------------------------------------------------------\u001b[0m",
      "\u001b[0;31mValueError\u001b[0m                                Traceback (most recent call last)",
      "Cell \u001b[0;32mIn[10], line 1\u001b[0m\n\u001b[0;32m----> 1\u001b[0m graph\u001b[38;5;241m.\u001b[39mgraph_activity(\u001b[38;5;124m'\u001b[39m\u001b[38;5;124mitime\u001b[39m\u001b[38;5;124m'\u001b[39m, days\u001b[38;5;241m=\u001b[39mdays_to_display)\n",
      "File \u001b[0;32m~/Documents/GitHub/python-datascience/notebooks/graphs.py:224\u001b[0m, in \u001b[0;36mGraph.graph_activity\u001b[0;34m(self, activity, period, days, geometry)\u001b[0m\n\u001b[1;32m    222\u001b[0m graph_func_name \u001b[38;5;241m=\u001b[39m \u001b[38;5;124m'\u001b[39m\u001b[38;5;124m_graph_\u001b[39m\u001b[38;5;124m'\u001b[39m \u001b[38;5;241m+\u001b[39m activity\n\u001b[1;32m    223\u001b[0m graph_func \u001b[38;5;241m=\u001b[39m \u001b[38;5;28mgetattr\u001b[39m(\u001b[38;5;28mself\u001b[39m, graph_func_name, \u001b[38;5;28;01mNone\u001b[39;00m)\n\u001b[0;32m--> 224\u001b[0m graph_func(time, data, period, geometry)\n",
      "File \u001b[0;32m~/Documents/GitHub/python-datascience/notebooks/graphs.py:192\u001b[0m, in \u001b[0;36mGraph._graph_itime\u001b[0;34m(self, time, data, period, geometry)\u001b[0m\n\u001b[1;32m    190\u001b[0m itime \u001b[38;5;241m=\u001b[39m [entry\u001b[38;5;241m.\u001b[39mintensity_time_mins \u001b[38;5;28;01mfor\u001b[39;00m entry \u001b[38;5;129;01min\u001b[39;00m data]\n\u001b[1;32m    191\u001b[0m itime_goal_percent \u001b[38;5;241m=\u001b[39m \u001b[38;5;28mself\u001b[39m\u001b[38;5;241m.\u001b[39m__remove_discontinuities([entry\u001b[38;5;241m.\u001b[39mintensity_time_goal_percent \u001b[38;5;28;01mfor\u001b[39;00m entry \u001b[38;5;129;01min\u001b[39;00m data])\n\u001b[0;32m--> 192\u001b[0m itime_goal_max \u001b[38;5;241m=\u001b[39m \u001b[38;5;28mmax\u001b[39m([entry\u001b[38;5;241m.\u001b[39mintensity_time_goal_mins \u001b[38;5;28;01mfor\u001b[39;00m entry \u001b[38;5;129;01min\u001b[39;00m data])\n\u001b[1;32m    193\u001b[0m yrange_list \u001b[38;5;241m=\u001b[39m [(\u001b[38;5;241m0\u001b[39m, itime_goal_max \u001b[38;5;241m*\u001b[39m \u001b[38;5;241m5\u001b[39m), (\u001b[38;5;241m0\u001b[39m, \u001b[38;5;28mmax\u001b[39m(itime_goal_percent) \u001b[38;5;241m*\u001b[39m \u001b[38;5;241m1.1\u001b[39m)]\n\u001b[1;32m    194\u001b[0m \u001b[38;5;28mself\u001b[39m\u001b[38;5;241m.\u001b[39m__graph_multiple(time, [itime, itime_goal_percent], \u001b[38;5;124m'\u001b[39m\u001b[38;5;124mIntensity Minutes\u001b[39m\u001b[38;5;124m'\u001b[39m, period, [\u001b[38;5;124m'\u001b[39m\u001b[38;5;124mIntensity Minutes\u001b[39m\u001b[38;5;124m'\u001b[39m, \u001b[38;5;124m'\u001b[39m\u001b[38;5;124mIntensity Minutes Goal Percent\u001b[39m\u001b[38;5;124m'\u001b[39m],\n\u001b[1;32m    195\u001b[0m                       yrange_list, \u001b[38;5;28mself\u001b[39m\u001b[38;5;241m.\u001b[39msave, geometry)\n",
      "\u001b[0;31mValueError\u001b[0m: max() arg is an empty sequence"
     ]
    }
   ],
   "source": [
    "graph.graph_activity('itime', days=days_to_display)"
   ]
  },
  {
   "cell_type": "code",
   "execution_count": null,
   "metadata": {},
   "outputs": [],
   "source": []
  }
 ],
 "metadata": {
  "kernelspec": {
   "display_name": "base",
   "language": "python",
   "name": "python3"
  },
  "language_info": {
   "codemirror_mode": {
    "name": "ipython",
    "version": 3
   },
   "file_extension": ".py",
   "mimetype": "text/x-python",
   "name": "python",
   "nbconvert_exporter": "python",
   "pygments_lexer": "ipython3",
   "version": "3.11.3"
  }
 },
 "nbformat": 4,
 "nbformat_minor": 2
}
